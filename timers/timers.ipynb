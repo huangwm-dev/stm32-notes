{
 "cells": [
  {
   "cell_type": "markdown",
   "metadata": {},
   "source": [
    "## Types of Timers\n",
    "\n",
    "- [Basic](#Basic-Timers)\n",
    "- [General Purpose](#General-Purpose-Timers)\n",
    "- Advanced\n",
    "- High Resolution\n",
    "- Low Power\n",
    "\n"
   ]
  },
  {
   "cell_type": "markdown",
   "metadata": {},
   "source": [
    "### Basic Timers\n",
    "- time-based generation\n",
    "- drive ADC/DAC (internally connected to those peripherals)\n",
    "\n",
    "### Time Frequency\n",
    "Some important registers:\n",
    "\n",
    "Register | Description\n",
    "---|---\n",
    " Counter (CNT) | The current counter value \n",
    " Auto-Reload Register (ARR) | The value for the timer to count up to \n",
    " Pre-scaler (PSC) | Clock Divider frequency \n",
    "\n",
    "\n",
    "\n",
    "\n",
    "The timer frequency, `Update Event`, is determined by the period (`ARR`) and prescaler (`PSC`):\n",
    "\n",
    "`Timer Frequency (Hz) = Timer Clock (Hz) / (( PSC + 1) (ARR + 1))`\n"
   ]
  },
  {
   "cell_type": "code",
   "execution_count": 19,
   "metadata": {},
   "outputs": [
    {
     "name": "stdout",
     "output_type": "stream",
     "text": [
      "Update Frequency: 1.0 Hz or 1.0 s\n"
     ]
    }
   ],
   "source": [
    "timer_clock_hz = 4000000 # 4 MHz clock\n",
    "psc = 63\n",
    "arr = 62499\n",
    "timer_frequency = timer_clock_hz / ((psc + 1) * (arr + 1))\n",
    "print(\"Update Frequency: \" + str(timer_frequency) + \" Hz or \" + str(1/timer_frequency) + \" s\")"
   ]
  },
  {
   "cell_type": "markdown",
   "metadata": {},
   "source": [
    "### Resolution & Granularity\n",
    "Resolution is the maximum wait period of the timer. \n",
    "For example, on an 8-bit timer which a clock frequency of 1 MHz (1 cycle = 1 us), the resolution of the timer is 256 us.\n",
    "```Python\n",
    "Resolution = 2^n * timer period, where n is the bit-resolution of the timer\n",
    "```"
   ]
  },
  {
   "cell_type": "code",
   "execution_count": 4,
   "metadata": {},
   "outputs": [
    {
     "name": "stdout",
     "output_type": "stream",
     "text": [
      "0.000256 s\n"
     ]
    }
   ],
   "source": [
    "timer_bits = 8\n",
    "timer_freq = 1000000\n",
    "resolution = (2**timer_bits)*(1/timer_freq)\n",
    "print(str(resolution) + \" s\")"
   ]
  },
  {
   "cell_type": "markdown",
   "metadata": {},
   "source": [
    "The resolution can be lowered by via prescaler/auto reload/repetition counter.\n",
    "\n",
    "When lowering the resolution by using the prescaler, the **granularity** of also increases.\n",
    "For example, on an 8-bit timer with 1 MHz timer clock:\n",
    "- no presclaer: 1 timer tick = 1 clock cycle -> 1 us\n",
    "- 1024 presclaer: 1 timer tick = 1024 cycles -> 1.024 ms"
   ]
  },
  {
   "cell_type": "markdown",
   "metadata": {},
   "source": [
    "### General Purpose Timers\n",
    "General purpose timers have independent channels to:\n",
    "- measure input signals\n",
    "- output signals on time basis\n",
    "- generate PWM\n",
    "\n",
    "Some general purpose timers also introduce the concept of 'Repetition Counter'. When the repetition counter counts down to zero, the update event flag is raised. Technically, basic timers also have a repetitition counter, however it is always set to 1.\n",
    "\n",
    "``` C++\n",
    "                                Timer Clock (Hz) \n",
    "Timer Frequency (Hz) = --------------------------------\n",
    "                        ( PSC + 1) (ARR + 1) (RCR + 1)\n",
    "```"
   ]
  },
  {
   "cell_type": "markdown",
   "metadata": {},
   "source": [
    "![General Purpose Timer Block Diagram](resources/general_purpose_timer_block_diagram.PNG)"
   ]
  },
  {
   "cell_type": "markdown",
   "metadata": {
    "scrolled": true
   },
   "source": [
    "#### Input Capture\n",
    "*https://www.youtube.com/watch?v=2FoZ7kHOdT0*\n",
    "- captures the timestamp of an external events.\n",
    "    - events are characterized by rising and/or falling edge of a digital signal\n",
    "    - events are detected through the `Input filter & edge detector` block\n",
    "\n",
    "Simple Example:\n",
    "Suppose `ARR=99` and events are captured on rising edges.\n",
    "![Simple Input Capture Example](resources/simple_input_capture_example.png)\n",
    "\n",
    "Time unit is the period of the counter clock.\n",
    "\n"
   ]
  },
  {
   "cell_type": "markdown",
   "metadata": {},
   "source": [
    "##### How to setup:\n",
    "1. Enable the appropriate timer clock and GPIO clock in the RCC\n",
    "2. Configure the appropriate GPIO pin for the Timer alternate function\n",
    "3. Map a channel to a timer input by writing the appropriate CCxS bits to the CCMRx register.\n",
    "    - For example, to configure Channel 3 as input channel on TI3, we would write the bits `0b01` to CC3S in TIM2->CCMR2\n",
    "4. Configure the active edge of transition by writing to the CCxP/CCxNP bits in the CCER register\n",
    "    - For example, to configure channel 3 to detect rising edges: `CC3P = 0` and `CC3NP = 0`\n",
    "5. Optionally, enable the capture/compare interrupts if required\n",
    "6. Enable the capture/compare module by setting the `CCxE` bit in the `CCER` register\n",
    "7. Enable the counter module by setting the `CEN` bit in the `CR1` register"
   ]
  },
  {
   "cell_type": "markdown",
   "metadata": {},
   "source": [
    "# Other Resources\n",
    "https://ti.tuwien.ac.at/ecs/teaching/courses/mcvo-ss08/files/VO-07-CounterTimer.pdf"
   ]
  },
  {
   "cell_type": "code",
   "execution_count": null,
   "metadata": {},
   "outputs": [],
   "source": []
  }
 ],
 "metadata": {
  "kernelspec": {
   "display_name": "Python 3",
   "language": "python",
   "name": "python3"
  },
  "language_info": {
   "codemirror_mode": {
    "name": "ipython",
    "version": 3
   },
   "file_extension": ".py",
   "mimetype": "text/x-python",
   "name": "python",
   "nbconvert_exporter": "python",
   "pygments_lexer": "ipython3",
   "version": "3.8.2"
  }
 },
 "nbformat": 4,
 "nbformat_minor": 4
}
