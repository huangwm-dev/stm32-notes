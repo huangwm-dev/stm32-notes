{
 "cells": [
  {
   "cell_type": "markdown",
   "metadata": {},
   "source": [
    "# Serial Peripheral Interface\n",
    "- Full-duplex communication bus\n",
    "- Four I/O pins dedicated to SPI communication with external devices:\n",
    "  1. MISO: Master In/Slave Out. This pin is used to transmit data from slave to master\n",
    "  2. MOSI: Master Out/Slave In. This pin is used to transmit data from master to slave\n",
    "  3. SCK: Clock line. Data is clocked out synchronously with the clock\n",
    "  4. nCS: Chip select (usually active low). Used to select individual slave device for communication\n",
    "![SPI Bus](https://www.analog.com/-/media/images/analog-dialogue/en/volume-52/number-3/articles/introduction-to-spi-interface/205973_fig_01.png?la=en)\n"
   ]
  },
  {
   "cell_type": "markdown",
   "metadata": {},
   "source": [
    "### How SPI works behind the scenes:\n",
    "Synchronous communication using shift registers:\n",
    "![SPI Shift Register Animated](resources/spi-basics-maxembedded-animated.gif)\n",
    "As the clock bus shifts `master` data out to the slave, the `slaves` data is shifted out to the `master` sycnhronously"
   ]
  },
  {
   "cell_type": "markdown",
   "metadata": {},
   "source": [
    "### Synchronization Protocol\n",
    "Three important configuration for master and slave to agree upon when communicating of SPI:\n",
    "1. Clock Frequency\n",
    "2. Clock Polarity `CPOL`: Determines the state of the clock when bus is `IDLE`\n",
    "  - `0` = `IDLE` State is `LOW`\n",
    "  - `1` = `IDLE` State is `HIGH`\n",
    "3. Clock Phase `CPHA`: Determines the clock transition at which data will be sampled or captured:\n",
    "  - `0` = data sampled at **leading** edge\n",
    "  - `1` = data sampled at **trailing** edge\n",
    "  \n",
    "*Example:*\n",
    "*`CPOL=0`, `CPHA=1` this configuration means that sampling will happen on **FALLING** edge*\n",
    "  \n",
    "\n",
    "  \n",
    " ![Data clock timing diagram](resources/data-clock-timing-diagram.png)"
   ]
  },
  {
   "cell_type": "code",
   "execution_count": null,
   "metadata": {},
   "outputs": [],
   "source": []
  }
 ],
 "metadata": {
  "kernelspec": {
   "display_name": "Python 3",
   "language": "python",
   "name": "python3"
  },
  "language_info": {
   "codemirror_mode": {
    "name": "ipython",
    "version": 3
   },
   "file_extension": ".py",
   "mimetype": "text/x-python",
   "name": "python",
   "nbconvert_exporter": "python",
   "pygments_lexer": "ipython3",
   "version": "3.8.2"
  }
 },
 "nbformat": 4,
 "nbformat_minor": 4
}
