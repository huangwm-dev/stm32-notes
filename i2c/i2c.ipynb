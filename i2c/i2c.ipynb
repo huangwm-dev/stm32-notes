{
 "cells": [
  {
   "cell_type": "markdown",
   "metadata": {},
   "source": [
    "# I2C\n",
    "\n",
    "Two open drain lines:\n",
    "- SDA: Serial Data\n",
    "- CLK: Serial Clock\n",
    "\n",
    "![I2C Image](https://karo-electronics.github.io/docs/_images/i2c.png)"
   ]
  },
  {
   "cell_type": "markdown",
   "metadata": {},
   "source": [
    "## I2C Data Validity\n",
    "> For the data to be valid on the SDA line, it must not change while the SCL is high. The data on the SDA line should change only and only when the SCL line goes low. If this standard is not followed, the data transfer becomes flawed, in which case it becomes a start/stop sequence\n",
    "\n",
    "![I2C Data Validity](resources/i2c-data-validity1.png)\n",
    "\n",
    "However, there is a special case for [starting and stop](#bus-transaction) transactions that violates this rule."
   ]
  },
  {
   "cell_type": "markdown",
   "metadata": {},
   "source": [
    "## I2C Speed\n",
    "I2C supports serial 8-bit bi-directional data transfers. There are 3 modes of transmission speed:\n",
    "1. Standard: 100 kbps\n",
    "2. Fast Mode: 400 kbps\n",
    "3. High Speed Mode: 3.4 Mbps\n",
    "\n",
    "Most devices support Standard mode as I2C was designed to connect to low-speed devices.\n"
   ]
  },
  {
   "cell_type": "markdown",
   "metadata": {},
   "source": [
    "## Bus Transaction\n",
    "\n",
    "### Start/Stop Sequence\n",
    "\n",
    "![Start Sequence](resources/start-sequence.png)\n",
    "![Stop Sequence](resources/stop-sequence.png)"
   ]
  },
  {
   "cell_type": "markdown",
   "metadata": {},
   "source": [
    "### ACKs and NACKs\n",
    "Recall: I2C transfers 8 bits of data at a time.\n",
    "After each byte, the receiver must acknowledge with an `ACK`. This is done by having the receiver pulling the `SDA` line `low` during the `ACK` pulse of the `SCL`. Note, this requires the transmitter to release the SDA line after transmitting the one byte of data.\n",
    "![ACK Scheme](resources/acknowledgement-scheme.png)\n",
    "\n",
    "If the data is not acknowledged (`SDA` line remains `HIGH` during `ACK` pulse), then a `STOP` OR `REPEATED START` sequence occurs.\n",
    "For a slave-receiver, the slave leaves the `SDA` line `HIGH`, allowing the master-transmitter to generate the sequence.\n",
    "For a master-receiver, the slave-transmitter must let go of the `SDA` line to allow the master to generate the sequence."
   ]
  },
  {
   "cell_type": "markdown",
   "metadata": {},
   "source": [
    "### I2C Device Addressing\n",
    "Every device connected to the I2C bus must have a unique (usually) 7-bit addressing code. (This implies we can have 128 devices connected to the I2C bus). Some devices have 10-bit addressing.\n",
    "\n",
    "For the master to talk to a specific device, it must transmit the addressing code. In addition, it must transmit a Read/Write bit along with the address to maintain the 8-bit data transfer specification.\n",
    "![Device Addressing](resources/device-addressing1.png)"
   ]
  },
  {
   "cell_type": "markdown",
   "metadata": {},
   "source": [
    "## I2C Data Transfer Protocol\n",
    "\n",
    "### Timing Diagram\n",
    "![Data Transfer Timing Diagram](resources/data-transfer-timing-diagram.png)"
   ]
  },
  {
   "cell_type": "markdown",
   "metadata": {},
   "source": [
    "### Master to Slave Data Transfer:\n",
    "![Master to Slave](resources/master-to-slave-data-transfer.png)\n",
    "\n",
    "### Slave to Master Data Transfer:\n",
    "![Slave to Master](resources/slave-to-master-data-transfer.png)\n",
    "\n",
    "### Bi-directional Read & Write:\n",
    "![Bi-directional Read and Write](resources/bi-directional-data-transfer.png)"
   ]
  },
  {
   "cell_type": "markdown",
   "metadata": {},
   "source": [
    "## Clock Stretching\n",
    "The slave holds the clock line `LOW` until it is ready to send data. The Master must wait for the clock to go back high before continuing."
   ]
  },
  {
   "cell_type": "markdown",
   "metadata": {},
   "source": [
    "## Resouces\n",
    "https://www.i2c-bus.org/\n",
    "https://maxembedded.com/2014/02/inter-integrated-circuits-i2c-basics/"
   ]
  }
 ],
 "metadata": {
  "kernelspec": {
   "display_name": "Python 3",
   "language": "python",
   "name": "python3"
  },
  "language_info": {
   "codemirror_mode": {
    "name": "ipython",
    "version": 3
   },
   "file_extension": ".py",
   "mimetype": "text/x-python",
   "name": "python",
   "nbconvert_exporter": "python",
   "pygments_lexer": "ipython3",
   "version": "3.8.2"
  }
 },
 "nbformat": 4,
 "nbformat_minor": 4
}
